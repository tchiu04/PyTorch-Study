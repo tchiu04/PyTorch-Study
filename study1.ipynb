{
 "cells": [
  {
   "cell_type": "code",
   "execution_count": 1,
   "id": "86a6ab32",
   "metadata": {},
   "outputs": [],
   "source": [
    "import torch\n",
    "import torch.nn as nn\n",
    "import numpy as np\n",
    "import pandas as np\n",
    "import matplotlib.pyplot as plt"
   ]
  },
  {
   "cell_type": "markdown",
   "id": "b01039d5",
   "metadata": {},
   "source": [
    "**Note** Tensor data type is one of three big errors you'll ru into with PyTorch and DL\n",
    "1. Tensor not right data type\n",
    "2. Tensor not right shape\n",
    "3. Tensor not on right device"
   ]
  },
  {
   "cell_type": "code",
   "execution_count": 2,
   "id": "3d788675",
   "metadata": {},
   "outputs": [
    {
     "data": {
      "text/plain": [
       "tensor([3., 6., 9.])"
      ]
     },
     "execution_count": 2,
     "metadata": {},
     "output_type": "execute_result"
    }
   ],
   "source": [
    "float_32_tensor = torch.tensor([3.0, 6.0, 9.0], dtype=None, device=None, requires_grad=False)\n",
    "float_32_tensor"
   ]
  },
  {
   "cell_type": "code",
   "execution_count": 3,
   "id": "c2e21d06",
   "metadata": {},
   "outputs": [
    {
     "data": {
      "text/plain": [
       "tensor([3., 6., 9.], dtype=torch.float16)"
      ]
     },
     "execution_count": 3,
     "metadata": {},
     "output_type": "execute_result"
    }
   ],
   "source": [
    "float_16_tensor = float_32_tensor.type(torch.half)\n",
    "float_16_tensor"
   ]
  },
  {
   "cell_type": "code",
   "execution_count": 4,
   "id": "67e42a95",
   "metadata": {},
   "outputs": [
    {
     "data": {
      "text/plain": [
       "tensor([3., 6., 9.], dtype=torch.float64)"
      ]
     },
     "execution_count": 4,
     "metadata": {},
     "output_type": "execute_result"
    }
   ],
   "source": [
    "float_64_tensor = float_32_tensor.type(torch.double)\n",
    "float_64_tensor"
   ]
  },
  {
   "cell_type": "code",
   "execution_count": 5,
   "id": "b8acdffd",
   "metadata": {},
   "outputs": [
    {
     "data": {
      "text/plain": [
       "tensor([ 9., 36., 81.])"
      ]
     },
     "execution_count": 5,
     "metadata": {},
     "output_type": "execute_result"
    }
   ],
   "source": [
    "tensor_new = float_16_tensor * float_32_tensor\n",
    "tensor_new"
   ]
  },
  {
   "cell_type": "code",
   "execution_count": 6,
   "id": "0ef5f23e",
   "metadata": {},
   "outputs": [
    {
     "data": {
      "text/plain": [
       "tensor([3, 6, 9])"
      ]
     },
     "execution_count": 6,
     "metadata": {},
     "output_type": "execute_result"
    }
   ],
   "source": [
    "int_32_tensor = torch.tensor([3, 6, 9], dtype=torch.int64)\n",
    "int_32_tensor"
   ]
  },
  {
   "cell_type": "code",
   "execution_count": 7,
   "id": "877ba9f4",
   "metadata": {},
   "outputs": [
    {
     "data": {
      "text/plain": [
       "tensor([ 9., 36., 81.])"
      ]
     },
     "execution_count": 7,
     "metadata": {},
     "output_type": "execute_result"
    }
   ],
   "source": [
    "float_32_tensor * int_32_tensor"
   ]
  },
  {
   "cell_type": "markdown",
   "id": "17d1b220",
   "metadata": {},
   "source": [
    "### Getting information from tensors\n",
    "\n",
    "1. Tensor not right data type - to get 'dtype' from tensor, can use tensor.dtype    \n",
    "2. Tensor not right shape - to get 'shape' from tensor, can use tensor.shape\n",
    "3. Tensor not on right device - to get device, can use tensor.device    "
   ]
  },
  {
   "cell_type": "code",
   "execution_count": 8,
   "id": "3dd68162",
   "metadata": {},
   "outputs": [
    {
     "data": {
      "text/plain": [
       "tensor([[0.3921, 0.2477, 0.3440, 0.2817],\n",
       "        [0.2920, 0.8312, 0.7039, 0.2901],\n",
       "        [0.2639, 0.4540, 0.4383, 0.6114]], device='mps:0')"
      ]
     },
     "execution_count": 8,
     "metadata": {},
     "output_type": "execute_result"
    }
   ],
   "source": [
    "# create tensor\n",
    "some_tensor = torch.rand(3,4, device='mps')\n",
    "some_tensor"
   ]
  },
  {
   "cell_type": "code",
   "execution_count": 9,
   "id": "ea7dae61",
   "metadata": {},
   "outputs": [
    {
     "name": "stdout",
     "output_type": "stream",
     "text": [
      "Datatype of tensor: torch.float32\n",
      "Shape of tensor: torch.Size([3, 4])\n",
      "Device of tensor: mps:0\n"
     ]
    }
   ],
   "source": [
    "print(f\"Datatype of tensor: {some_tensor.dtype}\")\n",
    "print(f\"Shape of tensor: {some_tensor.shape}\")\n",
    "print(f\"Device of tensor: {some_tensor.device}\")"
   ]
  },
  {
   "cell_type": "code",
   "execution_count": 10,
   "id": "905a3915",
   "metadata": {},
   "outputs": [
    {
     "name": "stdout",
     "output_type": "stream",
     "text": [
      "tensor([[0.3921, 0.2477, 0.3440, 0.2817],\n",
      "        [0.2920, 0.8312, 0.7039, 0.2901],\n",
      "        [0.2639, 0.4540, 0.4383, 0.6114]], device='mps:0')\n"
     ]
    }
   ],
   "source": [
    "print(some_tensor)"
   ]
  },
  {
   "cell_type": "markdown",
   "id": "a722b439",
   "metadata": {},
   "source": [
    "### Mainpulating Tensors (tensor operations), incl\n",
    "* Addition\n",
    "* Subtraction\n",
    "* Multiplication (element-wise)\n",
    "* Division\n",
    "* Matrix Multiplication"
   ]
  },
  {
   "cell_type": "code",
   "execution_count": 11,
   "id": "2d8e9d4d",
   "metadata": {},
   "outputs": [
    {
     "data": {
      "text/plain": [
       "tensor([11, 12, 13])"
      ]
     },
     "execution_count": 11,
     "metadata": {},
     "output_type": "execute_result"
    }
   ],
   "source": [
    "tensor = torch.tensor([1,2,3])\n",
    "tensor + 10\n",
    "torch.add(tensor, 10)\n"
   ]
  },
  {
   "cell_type": "markdown",
   "id": "17e4717d",
   "metadata": {},
   "source": [
    "### Matrix multiplication in NN and DL:\n",
    "1. Element wise\n",
    "2. Matrix multiplication (Most common operation) (Dot product)\n",
    "\n",
    "Two main rules that performing matrix mult need to satisfy:\n",
    "1. **Inner Dimensions** need to match\n",
    "* `(3,2) @ (3, 2)` will not work\n",
    "* `(3,2) @ (2,3)` will work\n",
    "2. Resulting matrix have shape of **outer dimensions**"
   ]
  },
  {
   "cell_type": "code",
   "execution_count": 12,
   "id": "6dacd25e",
   "metadata": {},
   "outputs": [
    {
     "data": {
      "text/plain": [
       "tensor([1, 2, 3])"
      ]
     },
     "execution_count": 12,
     "metadata": {},
     "output_type": "execute_result"
    }
   ],
   "source": [
    "# element wise\n",
    "tensor"
   ]
  },
  {
   "cell_type": "code",
   "execution_count": 13,
   "id": "bdecdb15",
   "metadata": {},
   "outputs": [
    {
     "name": "stdout",
     "output_type": "stream",
     "text": [
      "tensor([1, 4, 9])\n",
      "Equals : tensor([1, 4, 9])\n"
     ]
    }
   ],
   "source": [
    "print(tensor * tensor)\n",
    "print(f\"Equals : {tensor * tensor}\")"
   ]
  },
  {
   "cell_type": "code",
   "execution_count": 14,
   "id": "1df14f08",
   "metadata": {},
   "outputs": [
    {
     "data": {
      "text/plain": [
       "tensor(14)"
      ]
     },
     "execution_count": 14,
     "metadata": {},
     "output_type": "execute_result"
    }
   ],
   "source": [
    "# matrix mul\n",
    "torch.matmul(tensor, tensor)"
   ]
  },
  {
   "cell_type": "code",
   "execution_count": 15,
   "id": "f71ae6f0",
   "metadata": {},
   "outputs": [
    {
     "ename": "RuntimeError",
     "evalue": "mat1 and mat2 shapes cannot be multiplied (3x2 and 3x2)",
     "output_type": "error",
     "traceback": [
      "\u001b[31m---------------------------------------------------------------------------\u001b[39m",
      "\u001b[31mRuntimeError\u001b[39m                              Traceback (most recent call last)",
      "\u001b[36mCell\u001b[39m\u001b[36m \u001b[39m\u001b[32mIn[15]\u001b[39m\u001b[32m, line 1\u001b[39m\n\u001b[32m----> \u001b[39m\u001b[32m1\u001b[39m \u001b[43mtorch\u001b[49m\u001b[43m.\u001b[49m\u001b[43mmatmul\u001b[49m\u001b[43m(\u001b[49m\u001b[43mtorch\u001b[49m\u001b[43m.\u001b[49m\u001b[43mrand\u001b[49m\u001b[43m(\u001b[49m\u001b[32;43m3\u001b[39;49m\u001b[43m,\u001b[49m\u001b[32;43m2\u001b[39;49m\u001b[43m)\u001b[49m\u001b[43m,\u001b[49m\u001b[43m \u001b[49m\u001b[43mtorch\u001b[49m\u001b[43m.\u001b[49m\u001b[43mrand\u001b[49m\u001b[43m(\u001b[49m\u001b[32;43m3\u001b[39;49m\u001b[43m,\u001b[49m\u001b[32;43m2\u001b[39;49m\u001b[43m)\u001b[49m\u001b[43m)\u001b[49m\n",
      "\u001b[31mRuntimeError\u001b[39m: mat1 and mat2 shapes cannot be multiplied (3x2 and 3x2)"
     ]
    }
   ],
   "source": [
    "torch.matmul(torch.rand(3,2), torch.rand(3,2))"
   ]
  },
  {
   "cell_type": "code",
   "execution_count": 17,
   "id": "ba4d323e",
   "metadata": {},
   "outputs": [
    {
     "ename": "RuntimeError",
     "evalue": "mat1 and mat2 shapes cannot be multiplied (3x2 and 3x2)",
     "output_type": "error",
     "traceback": [
      "\u001b[31m---------------------------------------------------------------------------\u001b[39m",
      "\u001b[31mRuntimeError\u001b[39m                              Traceback (most recent call last)",
      "\u001b[36mCell\u001b[39m\u001b[36m \u001b[39m\u001b[32mIn[17]\u001b[39m\u001b[32m, line 5\u001b[39m\n\u001b[32m      1\u001b[39m tensor_A = torch.tensor([[\u001b[32m1\u001b[39m,\u001b[32m2\u001b[39m], [\u001b[32m3\u001b[39m,\u001b[32m4\u001b[39m], [\u001b[32m5\u001b[39m,\u001b[32m6\u001b[39m]])\n\u001b[32m      3\u001b[39m tensor_B = torch.tensor([[\u001b[32m7\u001b[39m,\u001b[32m10\u001b[39m],[\u001b[32m8\u001b[39m,\u001b[32m11\u001b[39m],[\u001b[32m9\u001b[39m,\u001b[32m12\u001b[39m]])\n\u001b[32m----> \u001b[39m\u001b[32m5\u001b[39m \u001b[43mtorch\u001b[49m\u001b[43m.\u001b[49m\u001b[43mmm\u001b[49m\u001b[43m(\u001b[49m\u001b[43mtensor_A\u001b[49m\u001b[43m,\u001b[49m\u001b[43m \u001b[49m\u001b[43mtensor_B\u001b[49m\u001b[43m)\u001b[49m \u001b[38;5;66;03m#tensor.mm is torch.matmul (alias for writing less code)\u001b[39;00m\n",
      "\u001b[31mRuntimeError\u001b[39m: mat1 and mat2 shapes cannot be multiplied (3x2 and 3x2)"
     ]
    }
   ],
   "source": [
    "tensor_A = torch.tensor([[1,2], [3,4], [5,6]])\n",
    "\n",
    "tensor_B = torch.tensor([[7,10],[8,11],[9,12]])\n",
    "\n",
    "torch.mm(tensor_A, tensor_B) #tensor.mm is torch.matmul (alias for writing less code)"
   ]
  },
  {
   "cell_type": "markdown",
   "id": "576d7fb9",
   "metadata": {},
   "source": [
    "To fix our tensor shape issues, we can manipulate shape of one of our tensors using a **Transpose**"
   ]
  },
  {
   "cell_type": "code",
   "execution_count": 18,
   "id": "84059793",
   "metadata": {},
   "outputs": [
    {
     "data": {
      "text/plain": [
       "tensor([[ 7,  8,  9],\n",
       "        [10, 11, 12]])"
      ]
     },
     "execution_count": 18,
     "metadata": {},
     "output_type": "execute_result"
    }
   ],
   "source": [
    "tensor_B.T"
   ]
  },
  {
   "cell_type": "code",
   "execution_count": 19,
   "id": "fd9b4740",
   "metadata": {},
   "outputs": [
    {
     "data": {
      "text/plain": [
       "tensor([[ 7, 10],\n",
       "        [ 8, 11],\n",
       "        [ 9, 12]])"
      ]
     },
     "execution_count": 19,
     "metadata": {},
     "output_type": "execute_result"
    }
   ],
   "source": [
    "tensor_B"
   ]
  },
  {
   "cell_type": "code",
   "execution_count": 20,
   "id": "7bf673fb",
   "metadata": {},
   "outputs": [
    {
     "data": {
      "text/plain": [
       "tensor([[ 27,  30,  33],\n",
       "        [ 61,  68,  75],\n",
       "        [ 95, 106, 117]])"
      ]
     },
     "execution_count": 20,
     "metadata": {},
     "output_type": "execute_result"
    }
   ],
   "source": [
    "torch.mm(tensor_A, tensor_B.T)"
   ]
  },
  {
   "cell_type": "markdown",
   "id": "566e2f7e",
   "metadata": {},
   "source": [
    "## Finding min, max, mean, sum, etc (tensor aggregation)"
   ]
  },
  {
   "cell_type": "code",
   "execution_count": 21,
   "id": "90904298",
   "metadata": {},
   "outputs": [
    {
     "data": {
      "text/plain": [
       "(tensor([ 1, 11, 21, 31, 41, 51, 61, 71, 81, 91]), torch.int64)"
      ]
     },
     "execution_count": 21,
     "metadata": {},
     "output_type": "execute_result"
    }
   ],
   "source": [
    "# Create tensor\n",
    "x= torch.arange(1,100,10)\n",
    "x, x.dtype"
   ]
  },
  {
   "cell_type": "code",
   "execution_count": 22,
   "id": "f92cc43c",
   "metadata": {},
   "outputs": [
    {
     "data": {
      "text/plain": [
       "(tensor(1), tensor(1), tensor(91), tensor(91))"
      ]
     },
     "execution_count": 22,
     "metadata": {},
     "output_type": "execute_result"
    }
   ],
   "source": [
    "torch.min(x), x.min(), torch.max(x), x.max()"
   ]
  },
  {
   "cell_type": "code",
   "execution_count": 23,
   "id": "3ee47b28",
   "metadata": {},
   "outputs": [
    {
     "data": {
      "text/plain": [
       "(tensor(46.), tensor(46.))"
      ]
     },
     "execution_count": 23,
     "metadata": {},
     "output_type": "execute_result"
    }
   ],
   "source": [
    "#find the right data type whenfinding mean, torch.mean() needs tensor of float32 datatype\n",
    "torch.mean(x.type(torch.float32)), x.type(torch.float32).mean()"
   ]
  },
  {
   "cell_type": "code",
   "execution_count": 24,
   "id": "663b7962",
   "metadata": {},
   "outputs": [
    {
     "data": {
      "text/plain": [
       "(tensor(460), tensor(460))"
      ]
     },
     "execution_count": 24,
     "metadata": {},
     "output_type": "execute_result"
    }
   ],
   "source": [
    "torch.sum(x), x.sum()"
   ]
  },
  {
   "cell_type": "code",
   "execution_count": 25,
   "id": "b12da705",
   "metadata": {},
   "outputs": [
    {
     "data": {
      "text/plain": [
       "tensor(1)"
      ]
     },
     "execution_count": 25,
     "metadata": {},
     "output_type": "execute_result"
    }
   ],
   "source": [
    "x[x.argmin()] #find position in tensor that has minimum value with argmin() -> returns position of target tensor where minimum tensor occurs"
   ]
  },
  {
   "cell_type": "code",
   "execution_count": 26,
   "id": "cef22f72",
   "metadata": {},
   "outputs": [
    {
     "data": {
      "text/plain": [
       "tensor(91)"
      ]
     },
     "execution_count": 26,
     "metadata": {},
     "output_type": "execute_result"
    }
   ],
   "source": [
    "x[x.argmax()]"
   ]
  },
  {
   "cell_type": "markdown",
   "id": "2a7b579d",
   "metadata": {},
   "source": [
    "## Reshaping, stacking, squeezing and unsqueezing tensors\n",
    "* Reshaping - reshapes an input tensor to a defined shape\n",
    "* View - Return a view of an input tensor of certainn shape but keep the same memory as the original tensor\n",
    "* Stacking - combine multiple tensors on top of each otehr (Vstack) or side by side(hstack)\n",
    "* Squeeze - remove all  `1` dimensions from a tensor\n",
    "* Unsqeueeze - add a `1` dimensions to a target tensor\n",
    "* Permute - Return a view of the input with dimensions permuted (swapped) in a certain way\n"
   ]
  },
  {
   "cell_type": "code",
   "execution_count": 27,
   "id": "09e43025",
   "metadata": {},
   "outputs": [
    {
     "data": {
      "text/plain": [
       "(tensor([1., 2., 3., 4., 5., 6., 7., 8., 9.]), torch.Size([9]))"
      ]
     },
     "execution_count": 27,
     "metadata": {},
     "output_type": "execute_result"
    }
   ],
   "source": [
    "x = torch.arange(1., 10.)\n",
    "x,x.shape"
   ]
  },
  {
   "cell_type": "code",
   "execution_count": 28,
   "id": "d525eb4b",
   "metadata": {},
   "outputs": [
    {
     "data": {
      "text/plain": [
       "tensor([[1., 2., 3., 4., 5., 6., 7., 8., 9.]])"
      ]
     },
     "execution_count": 28,
     "metadata": {},
     "output_type": "execute_result"
    }
   ],
   "source": [
    "# Add an extra dimension\n",
    "x_reshaped = x.reshape(1,9)\n",
    "x_reshaped"
   ]
  },
  {
   "cell_type": "code",
   "execution_count": 29,
   "id": "026ee714",
   "metadata": {},
   "outputs": [
    {
     "data": {
      "text/plain": [
       "(tensor([[1., 2., 3., 4., 5., 6., 7., 8., 9.]]), torch.Size([1, 9]))"
      ]
     },
     "execution_count": 29,
     "metadata": {},
     "output_type": "execute_result"
    }
   ],
   "source": [
    "# Change the view\n",
    "z = x.view(1,9) #z shares same memory\n",
    "z, z.shape"
   ]
  },
  {
   "cell_type": "code",
   "execution_count": 30,
   "id": "5b860f0c",
   "metadata": {},
   "outputs": [
    {
     "data": {
      "text/plain": [
       "(tensor([[5., 2., 3., 4., 5., 6., 7., 8., 9.]]),\n",
       " tensor([5., 2., 3., 4., 5., 6., 7., 8., 9.]))"
      ]
     },
     "execution_count": 30,
     "metadata": {},
     "output_type": "execute_result"
    }
   ],
   "source": [
    "# Changing z changes x (same memorY)\n",
    "z[:, 0] = 5\n",
    "z, x"
   ]
  },
  {
   "cell_type": "code",
   "execution_count": 31,
   "id": "b782e276",
   "metadata": {},
   "outputs": [
    {
     "data": {
      "text/plain": [
       "tensor([[5., 2., 3., 4., 5., 6., 7., 8., 9.],\n",
       "        [5., 2., 3., 4., 5., 6., 7., 8., 9.],\n",
       "        [5., 2., 3., 4., 5., 6., 7., 8., 9.],\n",
       "        [5., 2., 3., 4., 5., 6., 7., 8., 9.]])"
      ]
     },
     "execution_count": 31,
     "metadata": {},
     "output_type": "execute_result"
    }
   ],
   "source": [
    "# Stack tensors on top of each other\n",
    "x_stacked = torch.stack([x,x,x,x], dim=0)\n",
    "x_stacked"
   ]
  },
  {
   "cell_type": "code",
   "execution_count": 32,
   "id": "46a654e0",
   "metadata": {},
   "outputs": [
    {
     "name": "stdout",
     "output_type": "stream",
     "text": [
      "Previous tensor: tensor([[5., 2., 3., 4., 5., 6., 7., 8., 9.]])\n",
      "PRevious shape: torch.Size([1, 9])\n",
      "\n",
      "New tensor: tensor([5., 2., 3., 4., 5., 6., 7., 8., 9.])\n",
      "New Shape: torch.Size([9])\n"
     ]
    }
   ],
   "source": [
    "print(f\"Previous tensor: {x_reshaped}\")\n",
    "print(f\"PRevious shape: {x_reshaped.shape}\")\n",
    "\n",
    "x_squeezed = x_reshaped.squeeze()\n",
    "print(f\"\\nNew tensor: {x_squeezed}\")\n",
    "print(f\"New Shape: {x_squeezed.shape}\")"
   ]
  },
  {
   "cell_type": "code",
   "execution_count": 33,
   "id": "2d2397bc",
   "metadata": {},
   "outputs": [
    {
     "data": {
      "text/plain": [
       "torch.Size([2, 1, 2, 1, 2])"
      ]
     },
     "execution_count": 33,
     "metadata": {},
     "output_type": "execute_result"
    }
   ],
   "source": [
    "# squeezing\n",
    "x = torch.zeros(2,1,2,1,2)\n",
    "x.size()"
   ]
  },
  {
   "cell_type": "code",
   "execution_count": 34,
   "id": "351d4307",
   "metadata": {},
   "outputs": [
    {
     "data": {
      "text/plain": [
       "torch.Size([2, 2, 2])"
      ]
     },
     "execution_count": 34,
     "metadata": {},
     "output_type": "execute_result"
    }
   ],
   "source": [
    "y = torch.squeeze(x)\n",
    "y.size()"
   ]
  },
  {
   "cell_type": "code",
   "execution_count": 35,
   "id": "e39df113",
   "metadata": {},
   "outputs": [
    {
     "data": {
      "text/plain": [
       "torch.Size([2, 1, 2, 1, 2])"
      ]
     },
     "execution_count": 35,
     "metadata": {},
     "output_type": "execute_result"
    }
   ],
   "source": [
    "y = torch.squeeze(x, 0)\n",
    "y.size()"
   ]
  },
  {
   "cell_type": "code",
   "execution_count": 36,
   "id": "cb187eec",
   "metadata": {},
   "outputs": [
    {
     "data": {
      "text/plain": [
       "torch.Size([2, 1, 2, 1, 2])"
      ]
     },
     "execution_count": 36,
     "metadata": {},
     "output_type": "execute_result"
    }
   ],
   "source": [
    "y = torch.squeeze(x,2)\n",
    "y.size()"
   ]
  },
  {
   "cell_type": "code",
   "execution_count": 37,
   "id": "cb11bc87",
   "metadata": {},
   "outputs": [
    {
     "name": "stdout",
     "output_type": "stream",
     "text": [
      "Previous traget: tensor([5., 2., 3., 4., 5., 6., 7., 8., 9.])\n",
      "Previous shape: torch.Size([9])\n",
      "\n",
      "New tensor: tensor([[5., 2., 3., 4., 5., 6., 7., 8., 9.]])\n",
      "\n",
      "New shape: torch.Size([1, 9])\n"
     ]
    }
   ],
   "source": [
    "#torch.unsqueeze() - adds a single dimension to a target tensor at specific dim\n",
    "print(f\"Previous traget: {x_squeezed}\")\n",
    "print(f\"Previous shape: {x_squeezed.shape}\")\n",
    "\n",
    "x_unsqueezed = x_squeezed.unsqueeze(dim=0)\n",
    "print(f\"\\nNew tensor: {x_unsqueezed}\")\n",
    "print(f\"\\nNew shape: {x_unsqueezed.shape}\")"
   ]
  },
  {
   "cell_type": "code",
   "execution_count": 38,
   "id": "f02ba451",
   "metadata": {},
   "outputs": [
    {
     "name": "stdout",
     "output_type": "stream",
     "text": [
      "Previous shape: torch.Size([224, 224, 3])\n",
      "New shape: torch.Size([3, 224, 224])\n"
     ]
    }
   ],
   "source": [
    "# torch.permute - rearranges the dimensions of a target tensor in specified order\n",
    "'''x = torch.randn(2,3,5)\n",
    "x.size()\n",
    "torch.permute(x, (2,0,1)).size()'''\n",
    "x_original = torch.rand(size=(224,224,3)) # [heigh, width, color_channels]\n",
    "\n",
    "# Permute the original tensor to rearrange the axis (or dim) order\n",
    "x_permuted = x_original.permute(2,0,1) # shifts axis 0->1, 1->2, 2->0\n",
    "print(f\"Previous shape: {x_original.shape}\")\n",
    "print(f\"New shape: {x_permuted.shape}\")"
   ]
  },
  {
   "cell_type": "code",
   "execution_count": 39,
   "id": "56e0c377",
   "metadata": {},
   "outputs": [
    {
     "data": {
      "text/plain": [
       "tensor([[[0.1387, 0.9634, 0.0181],\n",
       "         [0.6617, 0.9420, 0.8988],\n",
       "         [0.4923, 0.1141, 0.1927],\n",
       "         ...,\n",
       "         [0.3614, 0.3281, 0.9827],\n",
       "         [0.0710, 0.0337, 0.8654],\n",
       "         [0.4969, 0.5608, 0.5449]],\n",
       "\n",
       "        [[0.8817, 0.8582, 0.3788],\n",
       "         [0.7773, 0.3738, 0.7883],\n",
       "         [0.6641, 0.5085, 0.5675],\n",
       "         ...,\n",
       "         [0.5881, 0.1770, 0.0831],\n",
       "         [0.6916, 0.7165, 0.3140],\n",
       "         [0.7511, 0.8895, 0.3524]],\n",
       "\n",
       "        [[0.1276, 0.7204, 0.6738],\n",
       "         [0.3601, 0.4188, 0.3362],\n",
       "         [0.1609, 0.1414, 0.9990],\n",
       "         ...,\n",
       "         [0.3402, 0.4196, 0.5610],\n",
       "         [0.0871, 0.3817, 0.6546],\n",
       "         [0.8432, 0.2711, 0.2134]],\n",
       "\n",
       "        ...,\n",
       "\n",
       "        [[0.7493, 0.3795, 0.7565],\n",
       "         [0.4071, 0.6520, 0.5718],\n",
       "         [0.2775, 0.8733, 0.3270],\n",
       "         ...,\n",
       "         [0.4194, 0.6817, 0.4045],\n",
       "         [0.5091, 0.4685, 0.8609],\n",
       "         [0.7939, 0.3502, 0.2682]],\n",
       "\n",
       "        [[0.7060, 0.2705, 0.8242],\n",
       "         [0.1664, 0.2146, 0.9098],\n",
       "         [0.8088, 0.2721, 0.3998],\n",
       "         ...,\n",
       "         [0.9948, 0.0045, 0.0051],\n",
       "         [0.8601, 0.5688, 0.9696],\n",
       "         [0.2532, 0.3042, 0.8841]],\n",
       "\n",
       "        [[0.6281, 0.3354, 0.5363],\n",
       "         [0.2299, 0.8538, 0.5651],\n",
       "         [0.6554, 0.6774, 0.0077],\n",
       "         ...,\n",
       "         [0.8863, 0.6994, 0.4362],\n",
       "         [0.6830, 0.3123, 0.2476],\n",
       "         [0.4404, 0.2519, 0.3375]]])"
      ]
     },
     "execution_count": 39,
     "metadata": {},
     "output_type": "execute_result"
    }
   ],
   "source": [
    "x_original"
   ]
  },
  {
   "cell_type": "code",
   "execution_count": 40,
   "id": "85b36393",
   "metadata": {},
   "outputs": [
    {
     "data": {
      "text/plain": [
       "tensor([0.1387, 0.9634, 0.0181])"
      ]
     },
     "execution_count": 40,
     "metadata": {},
     "output_type": "execute_result"
    }
   ],
   "source": [
    "x_original[0, 0, :]"
   ]
  },
  {
   "cell_type": "code",
   "execution_count": 41,
   "id": "cfd39438",
   "metadata": {},
   "outputs": [],
   "source": [
    "x_original[0,1,2] = 728218"
   ]
  },
  {
   "cell_type": "code",
   "execution_count": 42,
   "id": "928b0449",
   "metadata": {},
   "outputs": [
    {
     "data": {
      "text/plain": [
       "tensor(728218.)"
      ]
     },
     "execution_count": 42,
     "metadata": {},
     "output_type": "execute_result"
    }
   ],
   "source": [
    "x_permuted[2,0,1]"
   ]
  },
  {
   "cell_type": "markdown",
   "id": "c368e5e6",
   "metadata": {},
   "source": [
    "## Indexing (selecting data from tensors)\n",
    "Indexing with PyTorch is similar to indexing with NumPy"
   ]
  },
  {
   "cell_type": "code",
   "execution_count": 43,
   "id": "0cdb939e",
   "metadata": {},
   "outputs": [
    {
     "data": {
      "text/plain": [
       "(tensor([[[1, 2, 3],\n",
       "          [4, 5, 6],\n",
       "          [7, 8, 9]]]),\n",
       " torch.Size([1, 3, 3]))"
      ]
     },
     "execution_count": 43,
     "metadata": {},
     "output_type": "execute_result"
    }
   ],
   "source": [
    "import torch\n",
    "x = torch.arange(1, 10).reshape(1,3,3)\n",
    "x, x.shape"
   ]
  },
  {
   "cell_type": "code",
   "execution_count": 44,
   "id": "61b51343",
   "metadata": {},
   "outputs": [
    {
     "data": {
      "text/plain": [
       "tensor([[1, 2, 3],\n",
       "        [4, 5, 6],\n",
       "        [7, 8, 9]])"
      ]
     },
     "execution_count": 44,
     "metadata": {},
     "output_type": "execute_result"
    }
   ],
   "source": [
    "# index on our new tensor\n",
    "x[0]"
   ]
  },
  {
   "cell_type": "code",
   "execution_count": 45,
   "id": "38e68981",
   "metadata": {},
   "outputs": [
    {
     "data": {
      "text/plain": [
       "(tensor([4, 5, 6]), tensor([4, 5, 6]))"
      ]
     },
     "execution_count": 45,
     "metadata": {},
     "output_type": "execute_result"
    }
   ],
   "source": [
    "# index on the middle bracket\n",
    "x[0,1], x[0][1]"
   ]
  },
  {
   "cell_type": "code",
   "execution_count": 46,
   "id": "0e453896",
   "metadata": {},
   "outputs": [
    {
     "data": {
      "text/plain": [
       "tensor([[1, 2, 3]])"
      ]
     },
     "execution_count": 46,
     "metadata": {},
     "output_type": "execute_result"
    }
   ],
   "source": [
    "# index on the most inner bracket (last dimension)\n",
    "x[0][2][2]\n",
    "# you can also use \":\" to select all of a target dimension\n",
    "x[:, 0]"
   ]
  },
  {
   "cell_type": "code",
   "execution_count": 47,
   "id": "93037f46",
   "metadata": {},
   "outputs": [
    {
     "data": {
      "text/plain": [
       "tensor([[2, 5, 8]])"
      ]
     },
     "execution_count": 47,
     "metadata": {},
     "output_type": "execute_result"
    }
   ],
   "source": [
    "# get all values of 0th and 1st dimensions, but only index 1 of 2nd dimension\n",
    "x[:, :, 1]"
   ]
  },
  {
   "cell_type": "code",
   "execution_count": 48,
   "id": "3e32eb07",
   "metadata": {},
   "outputs": [
    {
     "data": {
      "text/plain": [
       "tensor([5])"
      ]
     },
     "execution_count": 48,
     "metadata": {},
     "output_type": "execute_result"
    }
   ],
   "source": [
    "x[:, 1, 1]"
   ]
  },
  {
   "cell_type": "code",
   "execution_count": 49,
   "id": "f0ad5d19",
   "metadata": {},
   "outputs": [
    {
     "data": {
      "text/plain": [
       "(tensor(9), tensor([[3, 6, 9]]))"
      ]
     },
     "execution_count": 49,
     "metadata": {},
     "output_type": "execute_result"
    }
   ],
   "source": [
    "# index on x to return 9, index on x to return 369\n",
    "\n",
    "x[0,2,2],  x[:, :, 2]"
   ]
  },
  {
   "cell_type": "markdown",
   "id": "975eb4fc",
   "metadata": {},
   "source": [
    "### PyTorch tensors with NumPy\n",
    "NumPy is a popular scientific Python numerical computing library. Thus, PyTorch has functionality to interact with it.\n",
    "* Data in NumPy, want in PyTorch Tensor `torch.from_numpy(ndarray)`\n",
    "* PyTorch tensor -> NumPy -> `torch.Tensor.numpy()`"
   ]
  },
  {
   "cell_type": "code",
   "execution_count": 50,
   "id": "b879ca16",
   "metadata": {},
   "outputs": [
    {
     "data": {
      "text/plain": [
       "(array([1., 2., 3., 4., 5., 6., 7.]),\n",
       " tensor([1., 2., 3., 4., 5., 6., 7.], dtype=torch.float64))"
      ]
     },
     "execution_count": 50,
     "metadata": {},
     "output_type": "execute_result"
    }
   ],
   "source": [
    "import torch\n",
    "import numpy as np\n",
    "\n",
    "array = np.arange(1.0, 8.0)\n",
    "tensor = torch.from_numpy(array)\n",
    "array, tensor"
   ]
  },
  {
   "cell_type": "code",
   "execution_count": 51,
   "id": "8b014ee4",
   "metadata": {},
   "outputs": [
    {
     "data": {
      "text/plain": [
       "(dtype('float64'), torch.float64)"
      ]
     },
     "execution_count": 51,
     "metadata": {},
     "output_type": "execute_result"
    }
   ],
   "source": [
    "array.dtype, tensor.dtype   "
   ]
  },
  {
   "cell_type": "code",
   "execution_count": 52,
   "id": "5e77f253",
   "metadata": {},
   "outputs": [
    {
     "data": {
      "text/plain": [
       "torch.float32"
      ]
     },
     "execution_count": 52,
     "metadata": {},
     "output_type": "execute_result"
    }
   ],
   "source": [
    "torch.arange(1.0, 8.0).dtype"
   ]
  },
  {
   "cell_type": "code",
   "execution_count": 53,
   "id": "a990b789",
   "metadata": {},
   "outputs": [],
   "source": [
    "tensor = torch.from_numpy(array).type(torch.float32)"
   ]
  },
  {
   "cell_type": "code",
   "execution_count": 54,
   "id": "b0eb98a5",
   "metadata": {},
   "outputs": [
    {
     "data": {
      "text/plain": [
       "torch.float32"
      ]
     },
     "execution_count": 54,
     "metadata": {},
     "output_type": "execute_result"
    }
   ],
   "source": [
    "tensor.dtype # pytorch reflects numpy's default datatype of float64 unless states otherwise"
   ]
  },
  {
   "cell_type": "code",
   "execution_count": 55,
   "id": "b36b586f",
   "metadata": {},
   "outputs": [
    {
     "data": {
      "text/plain": [
       "(array([2., 3., 4., 5., 6., 7., 8.]), tensor([1., 2., 3., 4., 5., 6., 7.]))"
      ]
     },
     "execution_count": 55,
     "metadata": {},
     "output_type": "execute_result"
    }
   ],
   "source": [
    "# Change value of array, what will this do to `tensor`\n",
    "\n",
    "array = array + 1\n",
    "array, tensor"
   ]
  },
  {
   "cell_type": "code",
   "execution_count": 56,
   "id": "027d47fe",
   "metadata": {},
   "outputs": [
    {
     "data": {
      "text/plain": [
       "(tensor([1., 1., 1., 1., 1., 1., 1.]),\n",
       " array([1., 1., 1., 1., 1., 1., 1.], dtype=float32))"
      ]
     },
     "execution_count": 56,
     "metadata": {},
     "output_type": "execute_result"
    }
   ],
   "source": [
    "# Tensor to NumPy array\n",
    "tensor = torch.ones(7)\n",
    "numpy_tensor = tensor.numpy()\n",
    "tensor, numpy_tensor"
   ]
  },
  {
   "cell_type": "code",
   "execution_count": 57,
   "id": "9b624d42",
   "metadata": {},
   "outputs": [
    {
     "data": {
      "text/plain": [
       "(tensor([2., 2., 2., 2., 2., 2., 2.]),\n",
       " array([1., 1., 1., 1., 1., 1., 1.], dtype=float32))"
      ]
     },
     "execution_count": 57,
     "metadata": {},
     "output_type": "execute_result"
    }
   ],
   "source": [
    "#change the tensor, what happens to `numpy_tensor`?\n",
    "tensor = tensor + 1\n",
    "tensor, numpy_tensor"
   ]
  },
  {
   "cell_type": "markdown",
   "id": "2d5780ce",
   "metadata": {},
   "source": [
    "## Reproducibility (trying to take random out of random)\n",
    "\n",
    "In short, how a NN learns:\n",
    "\n",
    "`start with random numbers -> tensor operations -> update random numbers to try and make them better representations of the data -> again -> again...`\n",
    "\n",
    "To reduce the randomness in neural networks and PyTorch comes the concept of a **random seed**.\n",
    "\n",
    "Essentially what the random seed does is \"flavour\" the randomness."
   ]
  },
  {
   "cell_type": "code",
   "execution_count": 58,
   "id": "ce49ca44",
   "metadata": {},
   "outputs": [
    {
     "name": "stdout",
     "output_type": "stream",
     "text": [
      "tensor([[0.2619, 0.4731, 0.8398, 0.2610],\n",
      "        [0.3918, 0.7840, 0.0112, 0.6115],\n",
      "        [0.4252, 0.9891, 0.8964, 0.3429]])\n",
      "tensor([[0.9859, 0.5818, 0.4292, 0.0249],\n",
      "        [0.4091, 0.0818, 0.3526, 0.3342],\n",
      "        [0.4716, 0.6852, 0.5217, 0.2006]])\n",
      "tensor([[False, False, False, False],\n",
      "        [False, False, False, False],\n",
      "        [False, False, False, False]])\n"
     ]
    }
   ],
   "source": [
    "import torch\n",
    "random_tensor_A = torch.rand(3,4)\n",
    "random_tensor_B = torch.rand(3,4)\n",
    "\n",
    "print(random_tensor_A)\n",
    "print(random_tensor_B)\n",
    "print(random_tensor_A == random_tensor_B)"
   ]
  },
  {
   "cell_type": "code",
   "execution_count": 59,
   "id": "1ba9fe23",
   "metadata": {},
   "outputs": [
    {
     "name": "stdout",
     "output_type": "stream",
     "text": [
      "tensor([[0.8823, 0.9150, 0.3829, 0.9593],\n",
      "        [0.3904, 0.6009, 0.2566, 0.7936],\n",
      "        [0.9408, 0.1332, 0.9346, 0.5936]])\n",
      "tensor([[0.8823, 0.9150, 0.3829, 0.9593],\n",
      "        [0.3904, 0.6009, 0.2566, 0.7936],\n",
      "        [0.9408, 0.1332, 0.9346, 0.5936]])\n",
      "tensor([[True, True, True, True],\n",
      "        [True, True, True, True],\n",
      "        [True, True, True, True]])\n"
     ]
    }
   ],
   "source": [
    "# Let's make some random but reproducible tensors\n",
    "import torch\n",
    "\n",
    "# Set the random seed\n",
    "RANDOM_SEED = 42\n",
    "torch.manual_seed(RANDOM_SEED)\n",
    "random_tensor_C = torch.rand(3,4)\n",
    "torch.manual_seed(RANDOM_SEED)\n",
    "random_tensor_D = torch.rand(3,4)\n",
    "print(random_tensor_C)\n",
    "print(random_tensor_D)\n",
    "print(random_tensor_C == random_tensor_D)"
   ]
  },
  {
   "cell_type": "markdown",
   "id": "b3292ca1",
   "metadata": {},
   "source": [
    "## Running tensors and PyTorch objects on the GPUs (making faster computations)\n",
    "\n",
    "### 1. Getting a GPU\n",
    "\n",
    "1. Easiest - Google Colab\n",
    "2. Use own GPU - takes setup and requires investment\n",
    "3. Use cloud computing - GCP, AWS, Azure, these services allow you to rent computers on the cloud and access them\n",
    "\n",
    "For 2,3 PyTorch + GPU drivers (CUDA) takes a little bit of setting up, refer to pytorch "
   ]
  },
  {
   "cell_type": "code",
   "execution_count": 60,
   "id": "926bcaab",
   "metadata": {},
   "outputs": [
    {
     "name": "stdout",
     "output_type": "stream",
     "text": [
      "Using device: mps\n"
     ]
    },
    {
     "data": {
      "text/plain": [
       "False"
      ]
     },
     "execution_count": 60,
     "metadata": {},
     "output_type": "execute_result"
    }
   ],
   "source": [
    "device = \"mps\" if torch.mps.is_available() else \"cpu\"\n",
    "print(f\"Using device: {device}\")\n",
    "torch.cuda.is_available()"
   ]
  },
  {
   "cell_type": "code",
   "execution_count": 61,
   "id": "25c06afd",
   "metadata": {},
   "outputs": [
    {
     "data": {
      "text/plain": [
       "0"
      ]
     },
     "execution_count": 61,
     "metadata": {},
     "output_type": "execute_result"
    }
   ],
   "source": [
    "torch.cuda.device_count()"
   ]
  },
  {
   "cell_type": "markdown",
   "id": "e24dbf77",
   "metadata": {},
   "source": [
    " ### 3. Putting tensors (and models) on the GPU"
   ]
  },
  {
   "cell_type": "code",
   "execution_count": 62,
   "id": "c07802a0",
   "metadata": {},
   "outputs": [
    {
     "name": "stdout",
     "output_type": "stream",
     "text": [
      "tensor([1, 2, 3]) cpu\n"
     ]
    }
   ],
   "source": [
    "tensor = torch.tensor([1,2,3], device=\"cpu\")\n",
    "print(tensor, tensor.device)\n"
   ]
  },
  {
   "cell_type": "code",
   "execution_count": 63,
   "id": "a7916035",
   "metadata": {},
   "outputs": [
    {
     "data": {
      "text/plain": [
       "tensor([1, 2, 3], device='mps:0')"
      ]
     },
     "execution_count": 63,
     "metadata": {},
     "output_type": "execute_result"
    }
   ],
   "source": [
    "device = \"cuda\" if torch.cuda.is_available() else \"mps\"\n",
    "tensor_on_gpu = tensor.to(device)\n",
    "tensor_on_gpu\n"
   ]
  },
  {
   "cell_type": "markdown",
   "id": "b2a9b98a",
   "metadata": {},
   "source": [
    "### 4. Moving tensors back to the CPU (NumPy e.g. only works on CPU)"
   ]
  },
  {
   "cell_type": "code",
   "execution_count": 64,
   "id": "88d89f9a",
   "metadata": {},
   "outputs": [
    {
     "ename": "TypeError",
     "evalue": "can't convert mps:0 device type tensor to numpy. Use Tensor.cpu() to copy the tensor to host memory first.",
     "output_type": "error",
     "traceback": [
      "\u001b[31m---------------------------------------------------------------------------\u001b[39m",
      "\u001b[31mTypeError\u001b[39m                                 Traceback (most recent call last)",
      "\u001b[36mCell\u001b[39m\u001b[36m \u001b[39m\u001b[32mIn[64]\u001b[39m\u001b[32m, line 2\u001b[39m\n\u001b[32m      1\u001b[39m \u001b[38;5;66;03m# If tensor is on GPU, can't transform to NumPy\u001b[39;00m\n\u001b[32m----> \u001b[39m\u001b[32m2\u001b[39m \u001b[43mtensor_on_gpu\u001b[49m\u001b[43m.\u001b[49m\u001b[43mnumpy\u001b[49m\u001b[43m(\u001b[49m\u001b[43m)\u001b[49m\n",
      "\u001b[31mTypeError\u001b[39m: can't convert mps:0 device type tensor to numpy. Use Tensor.cpu() to copy the tensor to host memory first."
     ]
    }
   ],
   "source": [
    "# If tensor is on GPU, can't transform to NumPy\n",
    "tensor_on_gpu.numpy()"
   ]
  },
  {
   "cell_type": "code",
   "execution_count": 65,
   "id": "987604bd",
   "metadata": {},
   "outputs": [],
   "source": [
    "tensor_on_cpu = tensor_on_gpu.to(\"cpu\")"
   ]
  },
  {
   "cell_type": "code",
   "execution_count": 66,
   "id": "5c9ccd85",
   "metadata": {},
   "outputs": [
    {
     "data": {
      "text/plain": [
       "array([1, 2, 3])"
      ]
     },
     "execution_count": 66,
     "metadata": {},
     "output_type": "execute_result"
    }
   ],
   "source": [
    "tensor_on_cpu.numpy()"
   ]
  },
  {
   "cell_type": "code",
   "execution_count": 67,
   "id": "b77a7a78",
   "metadata": {},
   "outputs": [
    {
     "data": {
      "text/plain": [
       "tensor([1, 2, 3], device='mps:0')"
      ]
     },
     "execution_count": 67,
     "metadata": {},
     "output_type": "execute_result"
    }
   ],
   "source": [
    " tensor_on_gpu"
   ]
  },
  {
   "cell_type": "markdown",
   "id": "51b91c66",
   "metadata": {},
   "source": [
    "Ch1: 48–49, 51, 54 (epoch loops, test loop, save/load, put together).\n",
    "\n",
    "Ch4: 137, 139, 142, 143, 148 (custom Dataset, DataLoader, augmentation/transforms mindset, reusable train/test functions).\n",
    "Ch2: 69–71, 73/88 (skim) (logits→probs→labels, eval patterns, troubleshooting).\n",
    "\n",
    "If images might appear: Ch3 95–103, 105 (torchvision + batched loops)."
   ]
  },
  {
   "cell_type": "markdown",
   "id": "de35595c",
   "metadata": {},
   "source": [
    "## Splitting data into training and test sets ✨✨"
   ]
  },
  {
   "cell_type": "code",
   "execution_count": 68,
   "id": "bf4b3bd0",
   "metadata": {},
   "outputs": [
    {
     "data": {
      "text/plain": [
       "(tensor([[0.0000],\n",
       "         [0.0200],\n",
       "         [0.0400],\n",
       "         [0.0600],\n",
       "         [0.0800],\n",
       "         [0.1000],\n",
       "         [0.1200],\n",
       "         [0.1400],\n",
       "         [0.1600],\n",
       "         [0.1800]]),\n",
       " tensor([[0.3000],\n",
       "         [0.3140],\n",
       "         [0.3280],\n",
       "         [0.3420],\n",
       "         [0.3560],\n",
       "         [0.3700],\n",
       "         [0.3840],\n",
       "         [0.3980],\n",
       "         [0.4120],\n",
       "         [0.4260]]))"
      ]
     },
     "execution_count": 68,
     "metadata": {},
     "output_type": "execute_result"
    }
   ],
   "source": [
    "weight = 0.7\n",
    "bias = 0.3\n",
    "\n",
    "start = 0\n",
    "end =1\n",
    "step = 0.02\n",
    "X = torch.arange(start, end, step).unsqueeze(dim=1)\n",
    "y= weight * X + bias\n",
    "\n",
    "X[:10], y[:10]"
   ]
  },
  {
   "cell_type": "code",
   "execution_count": 69,
   "id": "47da8cc3",
   "metadata": {},
   "outputs": [
    {
     "data": {
      "text/plain": [
       "(50, 50)"
      ]
     },
     "execution_count": 69,
     "metadata": {},
     "output_type": "execute_result"
    }
   ],
   "source": [
    "len(X), len(y)"
   ]
  },
  {
   "cell_type": "code",
   "execution_count": 70,
   "id": "83f88d08",
   "metadata": {},
   "outputs": [
    {
     "data": {
      "text/plain": [
       "40"
      ]
     },
     "execution_count": 70,
     "metadata": {},
     "output_type": "execute_result"
    }
   ],
   "source": [
    "train_split = int(0.8*len(X))\n",
    "\n",
    "train_split"
   ]
  },
  {
   "cell_type": "code",
   "execution_count": 71,
   "id": "ada0468f",
   "metadata": {},
   "outputs": [
    {
     "data": {
      "text/plain": [
       "(40, 10)"
      ]
     },
     "execution_count": 71,
     "metadata": {},
     "output_type": "execute_result"
    }
   ],
   "source": [
    "X_train, y_train = X[:train_split], y[:train_split]\n",
    "X_test, y_test = X[train_split:], y[train_split:]\n",
    "len(X_train), len(X_test)"
   ]
  },
  {
   "cell_type": "code",
   "execution_count": 72,
   "id": "216763e5",
   "metadata": {},
   "outputs": [
    {
     "data": {
      "image/png": "[encoded data removed]",
      "text/plain": [
       "<Figure size 1000x700 with 1 Axes>"
      ]
     },
     "metadata": {},
     "output_type": "display_data"
    }
   ],
   "source": [
    "def plot_predictions(train_data=X_train, train_labels=y_train, test_data=X_test, test_labels = y_test, predictions=None):\n",
    "    \"\"\"\n",
    "    Plots training data, test data and compares predictions.\n",
    "    \"\"\"\n",
    "    plt.figure(figsize=(10,7))\n",
    "\n",
    "    # Plot training data in blue\n",
    "    plt.scatter(train_data, train_labels, c=\"b\", s=4, label = \"Training Data\")\n",
    "    plt.scatter(test_data, test_labels, c = \"g\", s=4, label = \"Testing Data\")\n",
    "\n",
    "    if predictions is not None:\n",
    "        plt.scatter(test_data, predictions, c = \"r\", label = \"Predictions\")\n",
    "    plt.legend(prop = {\"size\" : 14})\n",
    "\n",
    "plot_predictions()"
   ]
  },
  {
   "cell_type": "markdown",
   "id": "4a22197f",
   "metadata": {},
   "source": [
    "## 2. build model"
   ]
  },
  {
   "cell_type": "markdown",
   "id": "f012bb15",
   "metadata": {},
   "source": [
    "* Start with random values (weight and bias)\n",
    "* Look at traning data and adjust the random values to better represent the ideal values (parameter to recreate the data)\n",
    "\n",
    "How\n",
    "1. Gradient Descent\n",
    "2. Backpropagation"
   ]
  },
  {
   "cell_type": "code",
   "execution_count": 73,
   "id": "56341b58",
   "metadata": {},
   "outputs": [],
   "source": [
    "class LinearRegressionModel(nn.Module): # <- almost everything in Pytorch inherits from nn.Module\n",
    "    \"\"\"\n",
    "    All models should subclass the nn.Module class\n",
    "    \"\"\"\n",
    "    def __init__(self):\n",
    "        super().__init__()\n",
    "        self.weights = nn.Parameter(torch.rand(1, requires_grad=True, dtype = torch.float))\n",
    "        self.bias = nn.Parameter(torch.randn(1, requires_grad=True, dtype = torch.float))\n",
    "\n",
    "        # Forward method to define computation in the model\n",
    "    \n",
    "    def forward(self, x: torch.Tensor) -> torch.Tensor: # <- \"x\" is the input data\n",
    "        return self.weights * x + self.bias # linear regression formula    "
   ]
  },
  {
   "cell_type": "markdown",
   "id": "81ac6400",
   "metadata": {},
   "source": [
    "- nn.Module\n",
    "- Gradient Descent + Backpropagation (3blue1brown)\n",
    "\n",
    "### PyTorch model building essentials\n",
    "\n",
    "* torch.nn - contains all of buildings for computational graphs (e.g. Neural Networks)\n",
    "* torch.nn.Parameter - what parameters should our model try and learn, often a PyTorch layer from torch.nn will set these for us\n",
    "* torch.nn.Module - The base class for all neural network modules, if you subclass it, you should overwrite forward()\n",
    "* torch.optim - this where the optimizers in PyTorch live, they will help with gradient descent\n",
    "* def forward() - All nn.Module subclasses require you to overwrite forward(), this method defines what happens in the forward computation"
   ]
  },
  {
   "cell_type": "markdown",
   "id": "aecbf594",
   "metadata": {},
   "source": [
    "## 1. Get Data ready (turn into tensors)\n",
    "* torchvision.transforms\n",
    "* torch.utils.data.Dataset\n",
    "* torch.utils.darta.DataLoader\n",
    "## 2. Pick a model\n",
    "* torch.nn\n",
    "* torch.nn.Module\n",
    "* torchvision.models\n",
    "\n",
    "* torch.optim\n",
    "\n",
    "## 3. Fit model to data and make prediction\n",
    "## 4. Evaluate the model\n",
    "* torchmetrics\n",
    "## 5. Improve through experiementaion\n",
    "* torch.utils.tensorboard\n",
    "## 6. Save model"
   ]
  },
  {
   "cell_type": "markdown",
   "id": "3f5683ab",
   "metadata": {},
   "source": [
    "### Checking contenst of our PyTorch Model -> Find what's in our model\n",
    "So we can check our model parameters or what's inside our model using `.parameters()`"
   ]
  },
  {
   "cell_type": "code",
   "execution_count": 74,
   "id": "ed63877d",
   "metadata": {},
   "outputs": [
    {
     "data": {
      "text/plain": [
       "<torch._C.Generator at 0x117c7bc10>"
      ]
     },
     "execution_count": 74,
     "metadata": {},
     "output_type": "execute_result"
    }
   ],
   "source": [
    "# Create a random seed\n",
    "torch.manual_seed(42)\n"
   ]
  },
  {
   "cell_type": "code",
   "execution_count": 75,
   "id": "bd09479e",
   "metadata": {},
   "outputs": [
    {
     "data": {
      "text/plain": [
       "LinearRegressionModel()"
      ]
     },
     "execution_count": 75,
     "metadata": {},
     "output_type": "execute_result"
    }
   ],
   "source": [
    "# Create an instance of the mdoel (this is a subclass of nn.Module)\n",
    "model_0 = LinearRegressionModel()\n",
    "\n",
    "model_0"
   ]
  },
  {
   "cell_type": "code",
   "execution_count": 76,
   "id": "917b64a7",
   "metadata": {},
   "outputs": [
    {
     "data": {
      "text/plain": [
       "[Parameter containing:\n",
       " tensor([0.8823], requires_grad=True),\n",
       " Parameter containing:\n",
       " tensor([-0.6382], requires_grad=True)]"
      ]
     },
     "execution_count": 76,
     "metadata": {},
     "output_type": "execute_result"
    }
   ],
   "source": [
    "list(model_0.parameters())"
   ]
  },
  {
   "cell_type": "code",
   "execution_count": 77,
   "id": "11a27afe",
   "metadata": {},
   "outputs": [
    {
     "data": {
      "text/plain": [
       "tensor([1.3554])"
      ]
     },
     "execution_count": 77,
     "metadata": {},
     "output_type": "execute_result"
    }
   ],
   "source": [
    "torch.randn(1)"
   ]
  },
  {
   "cell_type": "code",
   "execution_count": 78,
   "id": "770f9833",
   "metadata": {},
   "outputs": [
    {
     "data": {
      "text/plain": [
       "OrderedDict([('weights', tensor([0.8823])), ('bias', tensor([-0.6382]))])"
      ]
     },
     "execution_count": 78,
     "metadata": {},
     "output_type": "execute_result"
    }
   ],
   "source": [
    "# List named parameteres\n",
    "model_0.state_dict()"
   ]
  },
  {
   "cell_type": "markdown",
   "id": "ee46807e",
   "metadata": {},
   "source": [
    "# Making prediction using `torch.inference_mode()`\n",
    "\n",
    "To check our model's preditive power, let's see how well it predicts y_test based on x_test\n",
    "When we pass data through our model, it's going to run it through the forward() method"
   ]
  },
  {
   "cell_type": "code",
   "execution_count": 79,
   "id": "888d5192",
   "metadata": {},
   "outputs": [
    {
     "data": {
      "text/plain": [
       "(tensor([[0.8000],\n",
       "         [0.8200],\n",
       "         [0.8400],\n",
       "         [0.8600],\n",
       "         [0.8800],\n",
       "         [0.9000],\n",
       "         [0.9200],\n",
       "         [0.9400],\n",
       "         [0.9600],\n",
       "         [0.9800]]),\n",
       " tensor([[0.8600],\n",
       "         [0.8740],\n",
       "         [0.8880],\n",
       "         [0.9020],\n",
       "         [0.9160],\n",
       "         [0.9300],\n",
       "         [0.9440],\n",
       "         [0.9580],\n",
       "         [0.9720],\n",
       "         [0.9860]]))"
      ]
     },
     "execution_count": 79,
     "metadata": {},
     "output_type": "execute_result"
    }
   ],
   "source": [
    "X_test, y_test"
   ]
  },
  {
   "cell_type": "code",
   "execution_count": 80,
   "id": "65ae76b5",
   "metadata": {},
   "outputs": [
    {
     "data": {
      "text/plain": [
       "(tensor([[0.0677],\n",
       "         [0.0853],\n",
       "         [0.1030],\n",
       "         [0.1206],\n",
       "         [0.1382],\n",
       "         [0.1559],\n",
       "         [0.1735],\n",
       "         [0.1912],\n",
       "         [0.2088],\n",
       "         [0.2265]]),\n",
       " tensor([[0.8600],\n",
       "         [0.8740],\n",
       "         [0.8880],\n",
       "         [0.9020],\n",
       "         [0.9160],\n",
       "         [0.9300],\n",
       "         [0.9440],\n",
       "         [0.9580],\n",
       "         [0.9720],\n",
       "         [0.9860]]))"
      ]
     },
     "execution_count": 80,
     "metadata": {},
     "output_type": "execute_result"
    }
   ],
   "source": [
    "# Make predictions using model\n",
    "with torch.inference_mode(): # disables gradient\n",
    "    y_preds = model_0(X_test)\n",
    "y_preds, y_test"
   ]
  },
  {
   "cell_type": "code",
   "execution_count": 81,
   "id": "e446db40",
   "metadata": {},
   "outputs": [
    {
     "data": {
      "text/plain": [
       "OrderedDict([('weights', tensor([0.8823])), ('bias', tensor([-0.6382]))])"
      ]
     },
     "execution_count": 81,
     "metadata": {},
     "output_type": "execute_result"
    }
   ],
   "source": [
    "model_0.state_dict()"
   ]
  },
  {
   "cell_type": "code",
   "execution_count": 82,
   "id": "e781b5f7",
   "metadata": {},
   "outputs": [
    {
     "data": {
      "image/png": "[encoded data removed]",
      "text/plain": [
       "<Figure size 1000x700 with 1 Axes>"
      ]
     },
     "metadata": {},
     "output_type": "display_data"
    }
   ],
   "source": [
    "plot_predictions(predictions=y_preds)"
   ]
  },
  {
   "cell_type": "markdown",
   "id": "256623ad",
   "metadata": {},
   "source": [
    "### Train model\n",
    "Training is for a model to move from some *unknown* paremeters (may be random) to some *known* parameters.\n",
    "In other words from a poor representation to a better presentation.\n",
    "\n",
    "One way to measure how poor/wrong a model prediction are is to use a loss function\n",
    "\n",
    "* Note: Loss function may also be called cost function or criterion in different areas\n",
    "\n",
    "Things we need to train:\n",
    "\n",
    "* **Loss Function**: A function to measure how wrong your model's predictions are to ideal outputs, lower better\n",
    "* **Optimizer**: Takes into account loss of model and adjusts the model's parameters (weight and bias in this case) to improve the loss function\n",
    "\n",
    "For PyTorch, we need:\n",
    "* A training loop\n",
    "* A testing loop"
   ]
  },
  {
   "cell_type": "code",
   "execution_count": 83,
   "id": "af81fd4b",
   "metadata": {},
   "outputs": [
    {
     "data": {
      "text/plain": [
       "[Parameter containing:\n",
       " tensor([0.8823], requires_grad=True),\n",
       " Parameter containing:\n",
       " tensor([-0.6382], requires_grad=True)]"
      ]
     },
     "execution_count": 83,
     "metadata": {},
     "output_type": "execute_result"
    }
   ],
   "source": [
    "torch.manual_seed(42)\n",
    "\n",
    "model_0 = LinearRegressionModel()\n",
    "\n",
    "list(model_0.parameters())"
   ]
  },
  {
   "cell_type": "code",
   "execution_count": 84,
   "id": "d32c1e13",
   "metadata": {},
   "outputs": [
    {
     "data": {
      "text/plain": [
       "OrderedDict([('weights', tensor([0.8823])), ('bias', tensor([-0.6382]))])"
      ]
     },
     "execution_count": 84,
     "metadata": {},
     "output_type": "execute_result"
    }
   ],
   "source": [
    "# Check out model parameters\n",
    "model_0.state_dict()\n"
   ]
  },
  {
   "cell_type": "code",
   "execution_count": 85,
   "id": "a508d3be",
   "metadata": {},
   "outputs": [],
   "source": [
    "loss_fn = nn.L1Loss() # how wrong, i.e. MSE\n",
    "optimizer = torch.optim.SGD(params = model_0.parameters(), lr = 0.01) # adjusts weights based on loss\n",
    "# lr = learning rate = possibly the most important hyperparameter = how much the weights/params change"
   ]
  },
  {
   "cell_type": "markdown",
   "id": "948a24dd",
   "metadata": {},
   "source": [
    "### Building a training loop (and testing loop) in PyTorch\n",
    "\n",
    "Couple of things needed in training loop:\n",
    "0. Loop through the data\n",
    "1. Forward pass (data going through model's `foward()` functions) to make predictions on data - forward propagation\n",
    "2. Calcualte the loss (compare forward pass predictions to ground truth labels)\n",
    "3. Optimizer zero grad\n",
    "4. Loss backward - move backwards through the network to calculate the gradients of each of theparameters of our model with respect to the loss (**back propagation**)\n",
    "5. Optimizer Step - use the optimizer to adjust model's parameters to try and improve the loss (**gradient descent**)"
   ]
  },
  {
   "cell_type": "code",
   "execution_count": 86,
   "id": "9e277ef0",
   "metadata": {},
   "outputs": [
    {
     "name": "stdout",
     "output_type": "stream",
     "text": [
      "Epoch: 0 | Loss: 0.8670692443847656 | Test loss: 0.7624635696411133\n",
      "OrderedDict({'weights': tensor([0.8862]), 'bias': tensor([-0.6282])})\n",
      "Epoch: 10 | Loss: 0.7518593668937683 | Test loss: 0.6277537941932678\n",
      "OrderedDict({'weights': tensor([0.9252]), 'bias': tensor([-0.5282])})\n",
      "Epoch: 20 | Loss: 0.636649489402771 | Test loss: 0.4930438995361328\n",
      "OrderedDict({'weights': tensor([0.9642]), 'bias': tensor([-0.4282])})\n",
      "Epoch: 30 | Loss: 0.5214396119117737 | Test loss: 0.3583340346813202\n",
      "OrderedDict({'weights': tensor([1.0032]), 'bias': tensor([-0.3282])})\n",
      "Epoch: 40 | Loss: 0.4062294363975525 | Test loss: 0.2236236035823822\n",
      "OrderedDict({'weights': tensor([1.0422]), 'bias': tensor([-0.2282])})\n",
      "Epoch: 50 | Loss: 0.2910192012786865 | Test loss: 0.08891315758228302\n",
      "OrderedDict({'weights': tensor([1.0812]), 'bias': tensor([-0.1282])})\n",
      "Epoch: 60 | Loss: 0.17580901086330414 | Test loss: 0.04579734057188034\n",
      "OrderedDict({'weights': tensor([1.1202]), 'bias': tensor([-0.0282])})\n",
      "Epoch: 70 | Loss: 0.11110417544841766 | Test loss: 0.13382463157176971\n",
      "OrderedDict({'weights': tensor([1.1387]), 'bias': tensor([0.0433])})\n",
      "Epoch: 80 | Loss: 0.09491372853517532 | Test loss: 0.16986630856990814\n",
      "OrderedDict({'weights': tensor([1.1365]), 'bias': tensor([0.0813])})\n",
      "Epoch: 90 | Loss: 0.08829215914011002 | Test loss: 0.18401065468788147\n",
      "OrderedDict({'weights': tensor([1.1266]), 'bias': tensor([0.1043])})\n"
     ]
    }
   ],
   "source": [
    "epochs = 100 # hp\n",
    "\n",
    "# Track different values\n",
    "epoch_count = []\n",
    "loss_values = []\n",
    "test_loss_values = []\n",
    "\n",
    "\n",
    "for epoch in range(epochs):\n",
    "    epoch_count.append(epoch)\n",
    "    #Put model in training mode\n",
    "    model_0.train() # sets all parameters that require gradients to require gradients\n",
    "\n",
    "    # 1. Forward pass\n",
    "    y_pred = model_0(X_train)\n",
    "\n",
    "    # 2. Calculate Loss\n",
    "    loss = loss_fn(y_pred, y_train)\n",
    "    loss_values.append(loss)\n",
    "\n",
    "    # 3. Optimizer zero grad\n",
    "    optimizer.zero_grad()\n",
    "\n",
    "    # 4. Loss backward\n",
    "    loss.backward()\n",
    "\n",
    "    # 5. Optimizer step\n",
    "    optimizer.step() # by deafult how optimizer changes will accumulate through the loop, so \n",
    "                    # need to zero them above in step 3 for next iteration\n",
    "\n",
    "    model_0.eval() # turns of different setttings in the model not needed for evalutaion\n",
    "    with torch.inference_mode():\n",
    "        # 1. Forward Pass\n",
    "        test_pred = model_0(X_test)\n",
    "        # 2. Calculate the loss, same loss function\n",
    "        test_loss = loss_fn(test_pred, y_test)\n",
    "        test_loss_values.append(test_loss)\n",
    "    \n",
    "    if (epoch)%10 ==0:\n",
    "        print(f\"Epoch: {epoch} | Loss: {loss} | Test loss: {test_loss}\")\n",
    "        print(model_0.state_dict())\n"
   ]
  },
  {
   "cell_type": "markdown",
   "id": "b70f952b",
   "metadata": {},
   "source": [
    "Learning rate scheduling - Coin at back of couch"
   ]
  },
  {
   "cell_type": "markdown",
   "id": "62b91669",
   "metadata": {},
   "source": [
    "## PLot the loss curves"
   ]
  },
  {
   "cell_type": "code",
   "execution_count": 87,
   "id": "95ed2ca9",
   "metadata": {},
   "outputs": [
    {
     "name": "stderr",
     "output_type": "stream",
     "text": [
      "/var/folders/vl/xcbt_9650nz8tknq733z87640000gn/T/ipykernel_62899/883351134.py:1: UserWarning: Converting a tensor with requires_grad=True to a scalar may lead to unexpected behavior.\n",
      "Consider using tensor.detach() first. (Triggered internally at /Users/runner/work/pytorch/pytorch/pytorch/torch/csrc/autograd/generated/python_variable_methods.cpp:836.)\n",
      "  plt.plot(epoch_count, np.array(torch.tensor(loss_values).numpy()), label = \"Train Loss\")\n"
     ]
    },
    {
     "data": {
      "text/plain": [
       "<matplotlib.legend.Legend at 0x32246f890>"
      ]
     },
     "execution_count": 87,
     "metadata": {},
     "output_type": "execute_result"
    },
    {
     "data": {
      "image/png": "[encoded data removed]",
      "text/plain": [
       "<Figure size 640x480 with 1 Axes>"
      ]
     },
     "metadata": {},
     "output_type": "display_data"
    }
   ],
   "source": [
    "plt.plot(epoch_count, np.array(torch.tensor(loss_values).numpy()), label = \"Train Loss\")\n",
    "plt.plot(epoch_count, test_loss_values, label = \"Test Loss\")\n",
    "plt.title(\"Training and test loss curves\")\n",
    "plt.ylabel(\"Loss\")\n",
    "plt.xlabel(\"Epochs\")\n",
    "plt.legend()"
   ]
  },
  {
   "cell_type": "code",
   "execution_count": 88,
   "id": "fcf941bf",
   "metadata": {},
   "outputs": [
    {
     "data": {
      "text/plain": [
       "OrderedDict([('weights', tensor([1.1143])), ('bias', tensor([0.1178]))])"
      ]
     },
     "execution_count": 88,
     "metadata": {},
     "output_type": "execute_result"
    }
   ],
   "source": [
    "with torch.inference_mode():\n",
    "    y_preds_new = model_0(X_test)\n",
    "\n",
    "model_0.state_dict()"
   ]
  },
  {
   "cell_type": "code",
   "execution_count": 89,
   "id": "9e1248f2",
   "metadata": {},
   "outputs": [
    {
     "data": {
      "text/plain": [
       "(0.7, 0.3)"
      ]
     },
     "execution_count": 89,
     "metadata": {},
     "output_type": "execute_result"
    }
   ],
   "source": [
    "weight, bias"
   ]
  },
  {
   "cell_type": "code",
   "execution_count": 90,
   "id": "53084c87",
   "metadata": {},
   "outputs": [
    {
     "data": {
      "image/png": "[encoded data removed]",
      "text/plain": [
       "<Figure size 1000x700 with 1 Axes>"
      ]
     },
     "metadata": {},
     "output_type": "display_data"
    }
   ],
   "source": [
    "plot_predictions(predictions=y_preds_new)"
   ]
  },
  {
   "cell_type": "code",
   "execution_count": 91,
   "id": "1fa29403",
   "metadata": {},
   "outputs": [
    {
     "data": {
      "text/plain": [
       "(tensor([[0.0000],\n",
       "         [0.0200],\n",
       "         [0.0400],\n",
       "         [0.0600],\n",
       "         [0.0800],\n",
       "         [0.1000],\n",
       "         [0.1200],\n",
       "         [0.1400],\n",
       "         [0.1600],\n",
       "         [0.1800]]),\n",
       " tensor([[0.4000],\n",
       "         [0.4040],\n",
       "         [0.4080],\n",
       "         [0.4120],\n",
       "         [0.4160],\n",
       "         [0.4200],\n",
       "         [0.4240],\n",
       "         [0.4280],\n",
       "         [0.4320],\n",
       "         [0.4360]]))"
      ]
     },
     "execution_count": 91,
     "metadata": {},
     "output_type": "execute_result"
    }
   ],
   "source": [
    "weight = 0.2\n",
    "bias = 0.4\n",
    "\n",
    "# Create range values\n",
    "start = 0\n",
    "end = 1\n",
    "step = 0.02\n",
    "\n",
    "# Create X and y (features and labels)\n",
    "X = torch.arange(start, end, step).unsqueeze(dim=1)\n",
    "y = weight * X + bias\n",
    "X[:10], y[:10]"
   ]
  },
  {
   "cell_type": "code",
   "execution_count": 92,
   "id": "f6a6d772",
   "metadata": {},
   "outputs": [
    {
     "data": {
      "text/plain": [
       "(40, 10)"
      ]
     },
     "execution_count": 92,
     "metadata": {},
     "output_type": "execute_result"
    }
   ],
   "source": [
    "# split\n",
    "train_split = int(0.8 * len(X))\n",
    "X_train, y_train = X[:train_split], y[:train_split]\n",
    "X_test, y_test = X[train_split:], y[train_split:]\n",
    "len(X_train), len(X_test)"
   ]
  },
  {
   "cell_type": "code",
   "execution_count": 93,
   "id": "ce8fce91",
   "metadata": {},
   "outputs": [
    {
     "data": {
      "image/png": "[encoded data removed]",
      "text/plain": [
       "<Figure size 1000x700 with 1 Axes>"
      ]
     },
     "metadata": {},
     "output_type": "display_data"
    }
   ],
   "source": [
    "plot_predictions(X_train, y_train, X_test, y_test)"
   ]
  },
  {
   "cell_type": "code",
   "execution_count": 94,
   "id": "d1b8f337",
   "metadata": {},
   "outputs": [
    {
     "data": {
      "text/plain": [
       "(LinearRegressionModelV2(\n",
       "   (linear_layer): Linear(in_features=1, out_features=1, bias=True)\n",
       " ),\n",
       " OrderedDict([('linear_layer.weight', tensor([[0.2294]])),\n",
       "              ('linear_layer.bias', tensor([-0.2380]))]))"
      ]
     },
     "execution_count": 94,
     "metadata": {},
     "output_type": "execute_result"
    }
   ],
   "source": [
    "class LinearRegressionModelV2(nn.Module):\n",
    "    def __init__(self):\n",
    "        super().__init__()\n",
    "        self.linear_layer = nn.Linear(in_features = 1, out_features=1)\n",
    "\n",
    "    def forward(self, x: torch.Tensor) -> torch.Tensor:\n",
    "        return self.linear_layer(x)\n",
    "\n",
    "torch.manual_seed(2)\n",
    "model_1 = LinearRegressionModelV2()\n",
    "model_1, model_1.state_dict()"
   ]
  },
  {
   "cell_type": "code",
   "execution_count": 95,
   "id": "f621b4d0",
   "metadata": {},
   "outputs": [
    {
     "name": "stdout",
     "output_type": "stream",
     "text": [
      "Epoch 0 | Loss: 0.6265121698379517 | Test Loss: 0.5983460545539856\n",
      "Epoch 10 | Loss: 0.51130211353302 | Test Loss: 0.46363601088523865\n",
      "Epoch 20 | Loss: 0.39609211683273315 | Test Loss: 0.32892608642578125\n",
      "Epoch 30 | Loss: 0.28088217973709106 | Test Loss: 0.19421617686748505\n",
      "Epoch 40 | Loss: 0.1656721830368042 | Test Loss: 0.05950623005628586\n",
      "Epoch 50 | Loss: 0.06173006445169449 | Test Loss: 0.0627998486161232\n",
      "Epoch 60 | Loss: 0.04574745148420334 | Test Loss: 0.09309744089841843\n",
      "Epoch 70 | Loss: 0.04162910580635071 | Test Loss: 0.09382584691047668\n",
      "Epoch 80 | Loss: 0.03812864050269127 | Test Loss: 0.08830083906650543\n",
      "Epoch 90 | Loss: 0.03468983247876167 | Test Loss: 0.08002829551696777\n",
      "Epoch 100 | Loss: 0.03126073628664017 | Test Loss: 0.07244262844324112\n",
      "Epoch 110 | Loss: 0.027825018391013145 | Test Loss: 0.06417009234428406\n",
      "Epoch 120 | Loss: 0.024387244135141373 | Test Loss: 0.056584425270557404\n",
      "Epoch 130 | Loss: 0.020958801731467247 | Test Loss: 0.048311881721019745\n",
      "Epoch 140 | Loss: 0.01752140000462532 | Test Loss: 0.040039341896772385\n",
      "Epoch 150 | Loss: 0.014085309579968452 | Test Loss: 0.032453685998916626\n",
      "Epoch 160 | Loss: 0.010656584985554218 | Test Loss: 0.02418113313615322\n",
      "Epoch 170 | Loss: 0.0072177862748503685 | Test Loss: 0.01590866409242153\n",
      "Epoch 180 | Loss: 0.003783397376537323 | Test Loss: 0.008323055692017078\n",
      "Epoch 190 | Loss: 0.007537322584539652 | Test Loss: 0.008418220095336437\n"
     ]
    }
   ],
   "source": [
    "epochs = 200\n",
    "epoch_count = []\n",
    "loss_values = []\n",
    "test_loss_values = []\n",
    "\n",
    "device = \"cpu\"\n",
    "\n",
    "loss_fn = nn.L1Loss()\n",
    "optimizer = torch.optim.SGD(params=model_1.parameters(), lr = 0.01)\n",
    "\n",
    "#put data on same device as model\n",
    "X_train = X_train.to(device)\n",
    "y_train = y_train.to(device)\n",
    "X_test = X_test.to(device)\n",
    "y_test = y_test.to(device)\n",
    "\n",
    "for epoch in range(epochs):\n",
    "    model_1.train()\n",
    "\n",
    "    y_pred = model_1(X_train)\n",
    "\n",
    "    loss = loss_fn(y_pred, y_train)\n",
    "    loss_values.append(loss)\n",
    "\n",
    "    optimizer.zero_grad()\n",
    "\n",
    "    loss.backward()\n",
    "\n",
    "    optimizer.step()\n",
    "\n",
    "    model_1.eval()\n",
    "    with torch.inference_mode():\n",
    "        test_pred = model_1(X_test)\n",
    "\n",
    "        test_loss = loss_fn(test_pred, y_test)\n",
    "        test_loss_values.append(test_loss)\n",
    "\n",
    "    if epoch % 10 ==0:\n",
    "        print(f\"Epoch {epoch} | Loss: {loss} | Test Loss: {test_loss}\")"
   ]
  },
  {
   "cell_type": "code",
   "execution_count": 96,
   "id": "d11bebc0",
   "metadata": {},
   "outputs": [
    {
     "data": {
      "text/plain": [
       "OrderedDict([('linear_layer.weight', tensor([[0.2050]])),\n",
       "             ('linear_layer.bias', tensor([0.3905]))])"
      ]
     },
     "execution_count": 96,
     "metadata": {},
     "output_type": "execute_result"
    }
   ],
   "source": [
    "model_1.state_dict()"
   ]
  },
  {
   "cell_type": "code",
   "execution_count": 97,
   "id": "5c1306ef",
   "metadata": {},
   "outputs": [
    {
     "data": {
      "text/plain": [
       "(0.2, 0.4)"
      ]
     },
     "execution_count": 97,
     "metadata": {},
     "output_type": "execute_result"
    }
   ],
   "source": [
    "weight, bias"
   ]
  },
  {
   "cell_type": "code",
   "execution_count": 98,
   "id": "8015fcb3",
   "metadata": {},
   "outputs": [
    {
     "data": {
      "text/plain": [
       "tensor([[0.5545],\n",
       "        [0.5586],\n",
       "        [0.5627],\n",
       "        [0.5668],\n",
       "        [0.5709],\n",
       "        [0.5750],\n",
       "        [0.5791],\n",
       "        [0.5832],\n",
       "        [0.5873],\n",
       "        [0.5914]])"
      ]
     },
     "execution_count": 98,
     "metadata": {},
     "output_type": "execute_result"
    }
   ],
   "source": [
    "model_1.eval()\n",
    "with torch.inference_mode():\n",
    "    y_preds = model_1(X_test)\n",
    "y_preds"
   ]
  },
  {
   "cell_type": "code",
   "execution_count": 99,
   "id": "c174a945",
   "metadata": {},
   "outputs": [
    {
     "data": {
      "image/png": "[encoded data removed]",
      "text/plain": [
       "<Figure size 1000x700 with 1 Axes>"
      ]
     },
     "metadata": {},
     "output_type": "display_data"
    }
   ],
   "source": [
    "plot_predictions(predictions = y_preds.cpu())"
   ]
  },
  {
   "cell_type": "code",
   "execution_count": 100,
   "id": "987004e4",
   "metadata": {},
   "outputs": [
    {
     "name": "stdout",
     "output_type": "stream",
     "text": [
      "Saviang model to: models/01_pytorch_workflow_model_1.pth\n"
     ]
    }
   ],
   "source": [
    "from pathlib import Path\n",
    "\n",
    "# 1. Create models directory\n",
    "MODEL_PATH = Path(\"models\")\n",
    "MODEL_PATH.mkdir(parents=True, exist_ok=True)\n",
    "\n",
    "# 2. Create model save path\n",
    "MODEL_NAME = \"01_pytorch_workflow_model_1.pth\"\n",
    "MODEL_SAVE_PATH = MODEL_PATH / MODEL_NAME\n",
    "\n",
    "# Save the models tate dict\n",
    "print(f\"Saviang model to: {MODEL_SAVE_PATH}\")\n",
    "torch.save(obj=model_1.state_dict(), f=MODEL_SAVE_PATH)"
   ]
  },
  {
   "cell_type": "code",
   "execution_count": 101,
   "id": "a44aa0bb",
   "metadata": {},
   "outputs": [
    {
     "data": {
      "text/plain": [
       "LinearRegressionModelV2(\n",
       "  (linear_layer): Linear(in_features=1, out_features=1, bias=True)\n",
       ")"
      ]
     },
     "execution_count": 101,
     "metadata": {},
     "output_type": "execute_result"
    }
   ],
   "source": [
    "# Load a PyTorch\n",
    "loaded_model_1 = LinearRegressionModelV2()\n",
    "loaded_model_1.load_state_dict(torch.load(MODEL_SAVE_PATH))\n",
    "\n",
    "loaded_model_1.to(device)"
   ]
  },
  {
   "cell_type": "code",
   "execution_count": 102,
   "id": "31688d04",
   "metadata": {},
   "outputs": [
    {
     "data": {
      "text/plain": [
       "device(type='cpu')"
      ]
     },
     "execution_count": 102,
     "metadata": {},
     "output_type": "execute_result"
    }
   ],
   "source": [
    "next(loaded_model_1.parameters()).device"
   ]
  },
  {
   "cell_type": "code",
   "execution_count": 103,
   "id": "bcaf91bb",
   "metadata": {},
   "outputs": [
    {
     "data": {
      "text/plain": [
       "OrderedDict([('linear_layer.weight', tensor([[0.2050]])),\n",
       "             ('linear_layer.bias', tensor([0.3905]))])"
      ]
     },
     "execution_count": 103,
     "metadata": {},
     "output_type": "execute_result"
    }
   ],
   "source": [
    "loaded_model_1.state_dict()"
   ]
  },
  {
   "cell_type": "code",
   "execution_count": 104,
   "id": "faeafb62",
   "metadata": {},
   "outputs": [
    {
     "data": {
      "text/plain": [
       "tensor([[0.5545],\n",
       "        [0.5586],\n",
       "        [0.5627],\n",
       "        [0.5668],\n",
       "        [0.5709],\n",
       "        [0.5750],\n",
       "        [0.5791],\n",
       "        [0.5832],\n",
       "        [0.5873],\n",
       "        [0.5914]])"
      ]
     },
     "execution_count": 104,
     "metadata": {},
     "output_type": "execute_result"
    }
   ],
   "source": [
    "# Evaluate loaded model\n",
    "loaded_model_1.eval()\n",
    "with torch.inference_mode():\n",
    "    loaded_model_1_preds = loaded_model_1(X_test)\n",
    "y_preds = loaded_model_1_preds\n",
    "y_preds"
   ]
  }
 ],
 "metadata": {
  "kernelspec": {
   "display_name": "base",
   "language": "python",
   "name": "python3"
  },
  "language_info": {
   "codemirror_mode": {
    "name": "ipython",
    "version": 3
   },
   "file_extension": ".py",
   "mimetype": "text/x-python",
   "name": "python",
   "nbconvert_exporter": "python",
   "pygments_lexer": "ipython3",
   "version": "3.12.9"
  }
 },
 "nbformat": 4,
 "nbformat_minor": 5
}
